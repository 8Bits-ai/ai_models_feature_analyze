{
 "cells": [
  {
   "cell_type": "code",
   "execution_count": null,
   "metadata": {},
   "outputs": [],
   "source": [
    "!pip install matplotlib > /dev/null 2>&1 && echo \"ok\" || echo \"fail\"; \n"
   ]
  },
  {
   "cell_type": "code",
   "execution_count": null,
   "metadata": {},
   "outputs": [],
   "source": [
    "\n",
    "import os\n",
    "import numpy as np\n",
    "import __init__\n",
    "from algorithm import inter_class_distance, intra_class_distance, visualize_inter_intra_class_distances, cohens_d\n",
    "from utils import load_features\n",
    "\n",
    "analysis_output_dir = os.path.join(\"output\")\n",
    "if not os.path.exists(analysis_output_dir):\n",
    "    os.makedirs(analysis_output_dir)\n",
    "    \n",
    "VECTOR_FEATURE_LENGTH_NORMALIZED = True\n",
    "METHOD = \"cosine\""
   ]
  },
  {
   "cell_type": "code",
   "execution_count": null,
   "metadata": {},
   "outputs": [],
   "source": [
    "\n",
    "def get_clustered_features(feature_vectors: np.ndarray, feature_labels: np.ndarray):\n",
    "    \"\"\"\n",
    "    Get clustered features.\n",
    "\n",
    "    Args:\n",
    "        feature_vectors (list): List of features.\n",
    "        feature_labels (list): List of labels.\n",
    "    Returns:\n",
    "        list: List of clustered features.\n",
    "    \"\"\"\n",
    "\n",
    "    labels = np.unique(feature_labels)\n",
    "    label_count = labels.shape[0]\n",
    "    classes = [[] for _ in range(label_count)]\n",
    "    for i in range(feature_vectors.shape[0]):\n",
    "        classes[feature_labels[i]].append(feature_vectors[i])\n",
    "    np_classes = np.array(classes)\n",
    "    return np_classes\n",
    "\n",
    "\n",
    "def get_all_inter_classes(clustered_feature_vectors: np.ndarray):\n",
    "    \n",
    "    cluster_count = clustered_feature_vectors.shape[0]\n",
    "    inter_class_distances = []\n",
    "    distance = 0\n",
    "    for i in range(cluster_count):\n",
    "        for j in range(cluster_count):\n",
    "            if i == j:\n",
    "                continue\n",
    "            distance += inter_class_distance(clustered_feature_vectors[i], clustered_feature_vectors[j], METHOD)    \n",
    "        inter_class_distances.append(distance / (cluster_count - 1))\n",
    "        distance = 0\n",
    "        if VECTOR_FEATURE_LENGTH_NORMALIZED and METHOD == \"euclidean\":\n",
    "            inter_class_distances[i] = inter_class_distances[i] / clustered_feature_vectors[0].shape[1]\n",
    "\n",
    "    print(\"clustered_feature_vectors[0].shape[1]\",clustered_feature_vectors[0].shape[1])\n",
    "    return inter_class_distances\n",
    "\n",
    "def get_all_intra_classes(clustered_feature_vectors: np.ndarray):\n",
    "        \n",
    "        cluster_count = clustered_feature_vectors.shape[0]\n",
    "        intra_class_distances = []\n",
    "        for i in range(cluster_count):\n",
    "            intra_class_distances.append(intra_class_distance(clustered_feature_vectors[i], METHOD))\n",
    "            if VECTOR_FEATURE_LENGTH_NORMALIZED and METHOD == \"euclidean\":\n",
    "                intra_class_distances[i] = intra_class_distances[i] / clustered_feature_vectors[0].shape[1]\n",
    "        print(\"clustered_feature_vectors[0].shape[1]\",clustered_feature_vectors[0].shape[1])\n",
    "\n",
    "        return intra_class_distances\n",
    "    \n",
    "def apply_zscore_normalization(feature_vectors: np.ndarray):\n",
    "    return (feature_vectors - feature_vectors.mean(axis=0)) / feature_vectors.std(axis=0)    "
   ]
  },
  {
   "cell_type": "markdown",
   "metadata": {},
   "source": [
    "## Resnet 50"
   ]
  },
  {
   "cell_type": "code",
   "execution_count": null,
   "metadata": {},
   "outputs": [],
   "source": [
    "\n",
    "model_keyword = \"resnet50_224_21_fs(1, 2048)\"\n",
    "features = load_features(keyword=model_keyword)\n",
    "feature_vectors =[feature[\"feature\"] for feature in features]\n",
    "feature_labels = [label[\"label_id\"] for label in features]\n",
    "\n",
    "\n",
    "\n",
    "np_feature_labels = np.array(feature_labels)\n",
    "np_feature_vectors = np.array(feature_vectors).squeeze(axis = 1)\n",
    "np_normalized_feature_vectors = apply_zscore_normalization(np_feature_vectors)\n",
    "\n",
    "clustered_feature_vectors = get_clustered_features(feature_vectors=np_normalized_feature_vectors, feature_labels=feature_labels)\n",
    "\n",
    "\n",
    "\n",
    "inter_class_distances = get_all_inter_classes(clustered_feature_vectors)\n",
    "intra_class_distances = get_all_intra_classes(clustered_feature_vectors)\n",
    "\n",
    "print(f\"inter_class_distances: {inter_class_distances}\")\n",
    "print(f\"intra_class_distances: {intra_class_distances}\")\n",
    "fig = visualize_inter_intra_class_distances(inter_class_distances=inter_class_distances, intra_class_distances=intra_class_distances, keywords=[model_keyword, METHOD])\n",
    "saved_path = os.path.join(analysis_output_dir, f\"{model_keyword}_k_{len(intra_class_distances)}.png\")\n",
    "fig.savefig(saved_path)\n",
    "d = cohens_d(np.array(inter_class_distances), np.array(intra_class_distances))\n",
    "print(f\"Cohen's d: {d}\")\n",
    "\n",
    "\n",
    "\n"
   ]
  },
  {
   "cell_type": "markdown",
   "metadata": {},
   "source": [
    "## RESNET 50 FINE TUNING"
   ]
  },
  {
   "cell_type": "code",
   "execution_count": null,
   "metadata": {},
   "outputs": [],
   "source": [
    "model_keyword = \"resnet50_ft_224_21_AIT90k_fs(1, 2048)\"\n",
    "features = load_features(keyword=model_keyword)\n",
    "feature_vectors =[feature[\"feature\"] for feature in features]\n",
    "feature_labels = [label[\"label_id\"] for label in features]\n",
    "\n",
    "\n",
    "\n",
    "np_feature_labels = np.array(feature_labels)\n",
    "np_feature_vectors = np.array(feature_vectors).squeeze(axis = 1)\n",
    "np_normalized_feature_vectors = apply_zscore_normalization(np_feature_vectors)\n",
    "\n",
    "clustered_feature_vectors = get_clustered_features(feature_vectors=np_normalized_feature_vectors, feature_labels=feature_labels)\n",
    "\n",
    "\n",
    "\n",
    "inter_class_distances = get_all_inter_classes(clustered_feature_vectors)\n",
    "intra_class_distances = get_all_intra_classes(clustered_feature_vectors)\n",
    "\n",
    "print(f\"inter_class_distances: {inter_class_distances}\")\n",
    "print(f\"intra_class_distances: {intra_class_distances}\")\n",
    "fig = visualize_inter_intra_class_distances(inter_class_distances=inter_class_distances, intra_class_distances=intra_class_distances, keywords=[model_keyword, METHOD])\n",
    "saved_path = os.path.join(analysis_output_dir, f\"{model_keyword}_k_{len(intra_class_distances)}.png\")\n",
    "fig.savefig(saved_path)\n",
    "\n",
    "d = cohens_d(np.array(inter_class_distances), np.array(intra_class_distances))\n",
    "print(f\"Cohen's d: {d}\")"
   ]
  },
  {
   "attachments": {},
   "cell_type": "markdown",
   "metadata": {},
   "source": [
    "## RESNET 50 FINE TUNING (26x100 training dataset)"
   ]
  },
  {
   "cell_type": "code",
   "execution_count": null,
   "metadata": {},
   "outputs": [],
   "source": [
    "model_keyword = \"resnet50_ft_224_21_AIT2-6k_fs(1, 2048)\"\n",
    "features = load_features(keyword=model_keyword)\n",
    "feature_vectors =[feature[\"feature\"] for feature in features]\n",
    "feature_labels = [label[\"label_id\"] for label in features]\n",
    "\n",
    "\n",
    "\n",
    "np_feature_labels = np.array(feature_labels)\n",
    "np_feature_vectors = np.array(feature_vectors).squeeze(axis = 1)\n",
    "np_normalized_feature_vectors = apply_zscore_normalization(np_feature_vectors)\n",
    "\n",
    "clustered_feature_vectors = get_clustered_features(feature_vectors=np_normalized_feature_vectors, feature_labels=feature_labels)\n",
    "\n",
    "\n",
    "\n",
    "inter_class_distances = get_all_inter_classes(clustered_feature_vectors)\n",
    "intra_class_distances = get_all_intra_classes(clustered_feature_vectors)\n",
    "\n",
    "print(f\"inter_class_distances: {inter_class_distances}\")\n",
    "print(f\"intra_class_distances: {intra_class_distances}\")\n",
    "fig = visualize_inter_intra_class_distances(inter_class_distances=inter_class_distances, intra_class_distances=intra_class_distances, keywords=[model_keyword, METHOD])\n",
    "saved_path = os.path.join(analysis_output_dir, f\"{model_keyword}_k_{len(intra_class_distances)}.png\")\n",
    "fig.savefig(saved_path)\n",
    "\n",
    "d = cohens_d(np.array(inter_class_distances), np.array(intra_class_distances))\n",
    "print(f\"Cohen's d: {d}\")"
   ]
  },
  {
   "cell_type": "markdown",
   "metadata": {},
   "source": [
    "## VIT B16"
   ]
  },
  {
   "cell_type": "code",
   "execution_count": null,
   "metadata": {},
   "outputs": [],
   "source": [
    "model_keyword = \"vit_b_16\"\n",
    "features = load_features(keyword=model_keyword)\n",
    "feature_vectors =[feature[\"feature\"] for feature in features]\n",
    "feature_labels = [label[\"label_id\"] for label in features]\n",
    "\n",
    "\n",
    "\n",
    "np_feature_labels = np.array(feature_labels)\n",
    "np_feature_vectors = np.array(feature_vectors).squeeze(axis = 1)\n",
    "np_normalized_feature_vectors = apply_zscore_normalization(np_feature_vectors)\n",
    "\n",
    "clustered_feature_vectors = get_clustered_features(feature_vectors=np_normalized_feature_vectors, feature_labels=feature_labels)\n",
    "\n",
    "\n",
    "\n",
    "inter_class_distances = get_all_inter_classes(clustered_feature_vectors)\n",
    "intra_class_distances = get_all_intra_classes(clustered_feature_vectors)\n",
    "\n",
    "print(f\"inter_class_distances: {inter_class_distances}\")\n",
    "print(f\"intra_class_distances: {intra_class_distances}\")\n",
    "fig = visualize_inter_intra_class_distances(inter_class_distances=inter_class_distances, intra_class_distances=intra_class_distances, keywords=[model_keyword, METHOD])\n",
    "saved_path = os.path.join(analysis_output_dir, f\"{model_keyword}_k_{len(intra_class_distances)}.png\")\n",
    "fig.savefig(saved_path)\n",
    "\n",
    "d = cohens_d(np.array(inter_class_distances), np.array(intra_class_distances))\n",
    "print(f\"Cohen's d: {d}\")"
   ]
  },
  {
   "cell_type": "markdown",
   "metadata": {},
   "source": [
    "## VIT L16"
   ]
  },
  {
   "cell_type": "code",
   "execution_count": null,
   "metadata": {},
   "outputs": [],
   "source": [
    "model_keyword = \"vit_l_16\"\n",
    "features = load_features(keyword=model_keyword)\n",
    "feature_vectors =[feature[\"feature\"] for feature in features]\n",
    "feature_labels = [label[\"label_id\"] for label in features]\n",
    "\n",
    "\n",
    "\n",
    "np_feature_labels = np.array(feature_labels)\n",
    "np_feature_vectors = np.array(feature_vectors).squeeze(axis = 1)\n",
    "np_normalized_feature_vectors = apply_zscore_normalization(np_feature_vectors)\n",
    "\n",
    "clustered_feature_vectors = get_clustered_features(feature_vectors=np_normalized_feature_vectors, feature_labels=feature_labels)\n",
    "\n",
    "\n",
    "\n",
    "inter_class_distances = get_all_inter_classes(clustered_feature_vectors)\n",
    "intra_class_distances = get_all_intra_classes(clustered_feature_vectors)\n",
    "\n",
    "print(f\"inter_class_distances: {inter_class_distances}\")\n",
    "print(f\"intra_class_distances: {intra_class_distances}\")\n",
    "fig = visualize_inter_intra_class_distances(inter_class_distances=inter_class_distances, intra_class_distances=intra_class_distances, keywords=[model_keyword, METHOD])\n",
    "saved_path = os.path.join(analysis_output_dir, f\"{model_keyword}_k_{len(intra_class_distances)}.png\")\n",
    "fig.savefig(saved_path)\n",
    "\n",
    "\n",
    "d = cohens_d(np.array(inter_class_distances), np.array(intra_class_distances))\n",
    "print(f\"Cohen's d: {d}\")"
   ]
  },
  {
   "cell_type": "markdown",
   "metadata": {},
   "source": [
    "## VIT L32"
   ]
  },
  {
   "cell_type": "code",
   "execution_count": null,
   "metadata": {},
   "outputs": [],
   "source": [
    "model_keyword = \"vit_l_32_pc_224_21_fs(1, 1024)\"\n",
    "features = load_features(keyword=model_keyword)\n",
    "feature_vectors =[feature[\"feature\"] for feature in features]\n",
    "feature_labels = [label[\"label_id\"] for label in features]\n",
    "\n",
    "\n",
    "\n",
    "np_feature_labels = np.array(feature_labels)\n",
    "np_feature_vectors = np.array(feature_vectors).squeeze(axis = 1)\n",
    "np_normalized_feature_vectors = apply_zscore_normalization(np_feature_vectors)\n",
    "\n",
    "clustered_feature_vectors = get_clustered_features(feature_vectors=np_normalized_feature_vectors, feature_labels=feature_labels)\n",
    "\n",
    "\n",
    "\n",
    "inter_class_distances = get_all_inter_classes(clustered_feature_vectors)\n",
    "intra_class_distances = get_all_intra_classes(clustered_feature_vectors)\n",
    "\n",
    "print(f\"inter_class_distances: {inter_class_distances}\")\n",
    "print(f\"intra_class_distances: {intra_class_distances}\")\n",
    "fig = visualize_inter_intra_class_distances(inter_class_distances=inter_class_distances, intra_class_distances=intra_class_distances, keywords=[model_keyword, METHOD])\n",
    "saved_path = os.path.join(analysis_output_dir, f\"{model_keyword}_k_{len(intra_class_distances)}.png\")\n",
    "fig.savefig(saved_path)\n",
    "\n",
    "\n",
    "d = cohens_d(np.array(inter_class_distances), np.array(intra_class_distances))\n",
    "print(f\"Cohen's d: {d}\")"
   ]
  },
  {
   "cell_type": "markdown",
   "metadata": {},
   "source": [
    "## VIT L32 (26x100 training dataset)"
   ]
  },
  {
   "cell_type": "code",
   "execution_count": null,
   "metadata": {},
   "outputs": [],
   "source": [
    "model_keyword = \"vit_l_32_pc_224_21_AIT2-6k_fs(1, 1024)\"\n",
    "features = load_features(keyword=model_keyword)\n",
    "feature_vectors =[feature[\"feature\"] for feature in features]\n",
    "feature_labels = [label[\"label_id\"] for label in features]\n",
    "\n",
    "\n",
    "\n",
    "np_feature_labels = np.array(feature_labels)\n",
    "np_feature_vectors = np.array(feature_vectors).squeeze(axis = 1)\n",
    "np_normalized_feature_vectors = apply_zscore_normalization(np_feature_vectors)\n",
    "\n",
    "clustered_feature_vectors = get_clustered_features(feature_vectors=np_normalized_feature_vectors, feature_labels=feature_labels)\n",
    "\n",
    "\n",
    "\n",
    "inter_class_distances = get_all_inter_classes(clustered_feature_vectors)\n",
    "intra_class_distances = get_all_intra_classes(clustered_feature_vectors)\n",
    "\n",
    "print(f\"inter_class_distances: {inter_class_distances}\")\n",
    "print(f\"intra_class_distances: {intra_class_distances}\")\n",
    "fig = visualize_inter_intra_class_distances(inter_class_distances=inter_class_distances, intra_class_distances=intra_class_distances, keywords=[model_keyword, METHOD])\n",
    "saved_path = os.path.join(analysis_output_dir, f\"{model_keyword}_k_{len(intra_class_distances)}.png\")\n",
    "fig.savefig(saved_path)\n",
    "\n",
    "\n",
    "d = cohens_d(np.array(inter_class_distances), np.array(intra_class_distances))\n",
    "print(f\"Cohen's d: {d}\")"
   ]
  },
  {
   "cell_type": "markdown",
   "metadata": {},
   "source": [
    "## VIT H14"
   ]
  },
  {
   "cell_type": "code",
   "execution_count": null,
   "metadata": {},
   "outputs": [],
   "source": [
    "model_keyword = \"vit_h_14\"\n",
    "features = load_features(keyword=model_keyword)\n",
    "feature_vectors =[feature[\"feature\"] for feature in features]\n",
    "feature_labels = [label[\"label_id\"] for label in features]\n",
    "\n",
    "\n",
    "\n",
    "np_feature_labels = np.array(feature_labels)\n",
    "np_feature_vectors = np.array(feature_vectors).squeeze(axis = 1)\n",
    "np_normalized_feature_vectors = apply_zscore_normalization(np_feature_vectors)\n",
    "\n",
    "clustered_feature_vectors = get_clustered_features(feature_vectors=np_normalized_feature_vectors, feature_labels=feature_labels)\n",
    "\n",
    "\n",
    "\n",
    "inter_class_distances = get_all_inter_classes(clustered_feature_vectors)\n",
    "intra_class_distances = get_all_intra_classes(clustered_feature_vectors)\n",
    "\n",
    "print(f\"inter_class_distances: {inter_class_distances}\")\n",
    "print(f\"intra_class_distances: {intra_class_distances}\")\n",
    "fig = visualize_inter_intra_class_distances(inter_class_distances=inter_class_distances, intra_class_distances=intra_class_distances, keywords=[model_keyword, METHOD])\n",
    "saved_path = os.path.join(analysis_output_dir, f\"{model_keyword}_k_{len(intra_class_distances)}.png\")\n",
    "fig.savefig(saved_path)\n",
    "\n",
    "\n",
    "d = cohens_d(np.array(inter_class_distances), np.array(intra_class_distances))\n",
    "print(f\"Cohen's d: {d}\")"
   ]
  },
  {
   "cell_type": "markdown",
   "metadata": {},
   "source": [
    "# SWIN_B"
   ]
  },
  {
   "cell_type": "code",
   "execution_count": null,
   "metadata": {},
   "outputs": [],
   "source": [
    "model_keyword = \"swin_b\"\n",
    "features = load_features(keyword=model_keyword)\n",
    "feature_vectors =[feature[\"feature\"] for feature in features]\n",
    "feature_labels = [label[\"label_id\"] for label in features]\n",
    "\n",
    "\n",
    "\n",
    "np_feature_labels = np.array(feature_labels)\n",
    "np_feature_vectors = np.array(feature_vectors).squeeze(axis = 1)\n",
    "np_normalized_feature_vectors = apply_zscore_normalization(np_feature_vectors)\n",
    "\n",
    "clustered_feature_vectors = get_clustered_features(feature_vectors=np_normalized_feature_vectors, feature_labels=feature_labels)\n",
    "\n",
    "\n",
    "\n",
    "inter_class_distances = get_all_inter_classes(clustered_feature_vectors)\n",
    "intra_class_distances = get_all_intra_classes(clustered_feature_vectors)\n",
    "\n",
    "print(f\"inter_class_distances: {inter_class_distances}\")\n",
    "print(f\"intra_class_distances: {intra_class_distances}\")\n",
    "fig = visualize_inter_intra_class_distances(inter_class_distances=inter_class_distances, intra_class_distances=intra_class_distances, keywords=[model_keyword, METHOD])\n",
    "saved_path = os.path.join(analysis_output_dir, f\"{model_keyword}_k_{len(intra_class_distances)}.png\")\n",
    "fig.savefig(saved_path)\n",
    "\n",
    "\n",
    "d = cohens_d(np.array(inter_class_distances), np.array(intra_class_distances))\n",
    "print(f\"Cohen's d: {d}\")"
   ]
  },
  {
   "cell_type": "markdown",
   "metadata": {},
   "source": [
    "# SWIN_T"
   ]
  },
  {
   "cell_type": "code",
   "execution_count": null,
   "metadata": {},
   "outputs": [],
   "source": [
    "model_keyword = \"swin_t\"\n",
    "features = load_features(keyword=model_keyword)\n",
    "feature_vectors =[feature[\"feature\"] for feature in features]\n",
    "feature_labels = [label[\"label_id\"] for label in features]\n",
    "\n",
    "\n",
    "\n",
    "np_feature_labels = np.array(feature_labels)\n",
    "np_feature_vectors = np.array(feature_vectors).squeeze(axis = 1)\n",
    "np_normalized_feature_vectors = apply_zscore_normalization(np_feature_vectors)\n",
    "\n",
    "clustered_feature_vectors = get_clustered_features(feature_vectors=np_normalized_feature_vectors, feature_labels=feature_labels)\n",
    "\n",
    "\n",
    "\n",
    "inter_class_distances = get_all_inter_classes(clustered_feature_vectors)\n",
    "intra_class_distances = get_all_intra_classes(clustered_feature_vectors)\n",
    "\n",
    "print(f\"inter_class_distances: {inter_class_distances}\")\n",
    "print(f\"intra_class_distances: {intra_class_distances}\")\n",
    "fig = visualize_inter_intra_class_distances(inter_class_distances=inter_class_distances, intra_class_distances=intra_class_distances, keywords=[model_keyword, METHOD])\n",
    "saved_path = os.path.join(analysis_output_dir, f\"{model_keyword}_k_{len(intra_class_distances)}.png\")\n",
    "fig.savefig(saved_path)\n",
    "\n",
    "\n",
    "d = cohens_d(np.array(inter_class_distances), np.array(intra_class_distances))\n",
    "print(f\"Cohen's d: {d}\")"
   ]
  },
  {
   "cell_type": "markdown",
   "metadata": {},
   "source": [
    "# SWIN_S"
   ]
  },
  {
   "cell_type": "code",
   "execution_count": null,
   "metadata": {},
   "outputs": [],
   "source": [
    "model_keyword = \"swin_s\"\n",
    "features = load_features(keyword=model_keyword)\n",
    "feature_vectors =[feature[\"feature\"] for feature in features]\n",
    "feature_labels = [label[\"label_id\"] for label in features]\n",
    "\n",
    "\n",
    "\n",
    "np_feature_labels = np.array(feature_labels)\n",
    "np_feature_vectors = np.array(feature_vectors).squeeze(axis = 1)\n",
    "np_normalized_feature_vectors = apply_zscore_normalization(np_feature_vectors)\n",
    "\n",
    "clustered_feature_vectors = get_clustered_features(feature_vectors=np_normalized_feature_vectors, feature_labels=feature_labels)\n",
    "\n",
    "\n",
    "\n",
    "inter_class_distances = get_all_inter_classes(clustered_feature_vectors)\n",
    "intra_class_distances = get_all_intra_classes(clustered_feature_vectors)\n",
    "\n",
    "print(f\"inter_class_distances: {inter_class_distances}\")\n",
    "print(f\"intra_class_distances: {intra_class_distances}\")\n",
    "fig = visualize_inter_intra_class_distances(inter_class_distances=inter_class_distances, intra_class_distances=intra_class_distances, keywords=[model_keyword, METHOD])\n",
    "saved_path = os.path.join(analysis_output_dir, f\"{model_keyword}_k_{len(intra_class_distances)}.png\")\n",
    "fig.savefig(saved_path)\n",
    "\n",
    "\n",
    "d = cohens_d(np.array(inter_class_distances), np.array(intra_class_distances))\n",
    "print(f\"Cohen's d: {d}\")"
   ]
  },
  {
   "cell_type": "markdown",
   "metadata": {},
   "source": [
    "# SWIN_B V2"
   ]
  },
  {
   "cell_type": "code",
   "execution_count": null,
   "metadata": {},
   "outputs": [],
   "source": [
    "model_keyword = \"swin_v2_b\"\n",
    "features = load_features(keyword=model_keyword)\n",
    "feature_vectors =[feature[\"feature\"] for feature in features]\n",
    "feature_labels = [label[\"label_id\"] for label in features]\n",
    "\n",
    "\n",
    "\n",
    "np_feature_labels = np.array(feature_labels)\n",
    "np_feature_vectors = np.array(feature_vectors).squeeze(axis = 1)\n",
    "np_normalized_feature_vectors = apply_zscore_normalization(np_feature_vectors)\n",
    "\n",
    "clustered_feature_vectors = get_clustered_features(feature_vectors=np_normalized_feature_vectors, feature_labels=feature_labels)\n",
    "\n",
    "\n",
    "\n",
    "inter_class_distances = get_all_inter_classes(clustered_feature_vectors)\n",
    "intra_class_distances = get_all_intra_classes(clustered_feature_vectors)\n",
    "\n",
    "print(f\"inter_class_distances: {inter_class_distances}\")\n",
    "print(f\"intra_class_distances: {intra_class_distances}\")\n",
    "fig = visualize_inter_intra_class_distances(inter_class_distances=inter_class_distances, intra_class_distances=intra_class_distances, keywords=[model_keyword, METHOD])\n",
    "saved_path = os.path.join(analysis_output_dir, f\"{model_keyword}_k_{len(intra_class_distances)}.png\")\n",
    "fig.savefig(saved_path)\n",
    "\n",
    "\n",
    "d = cohens_d(np.array(inter_class_distances), np.array(intra_class_distances))\n",
    "print(f\"Cohen's d: {d}\")"
   ]
  },
  {
   "cell_type": "markdown",
   "metadata": {},
   "source": [
    "# SWIN_T V2"
   ]
  },
  {
   "cell_type": "code",
   "execution_count": null,
   "metadata": {},
   "outputs": [],
   "source": [
    "model_keyword = \"swin_v2_t\"\n",
    "features = load_features(keyword=model_keyword)\n",
    "feature_vectors =[feature[\"feature\"] for feature in features]\n",
    "feature_labels = [label[\"label_id\"] for label in features]\n",
    "\n",
    "\n",
    "\n",
    "np_feature_labels = np.array(feature_labels)\n",
    "np_feature_vectors = np.array(feature_vectors).squeeze(axis = 1)\n",
    "np_normalized_feature_vectors = apply_zscore_normalization(np_feature_vectors)\n",
    "\n",
    "clustered_feature_vectors = get_clustered_features(feature_vectors=np_normalized_feature_vectors, feature_labels=feature_labels)\n",
    "\n",
    "\n",
    "\n",
    "inter_class_distances = get_all_inter_classes(clustered_feature_vectors)\n",
    "intra_class_distances = get_all_intra_classes(clustered_feature_vectors)\n",
    "\n",
    "print(f\"inter_class_distances: {inter_class_distances}\")\n",
    "print(f\"intra_class_distances: {intra_class_distances}\")\n",
    "fig = visualize_inter_intra_class_distances(inter_class_distances=inter_class_distances, intra_class_distances=intra_class_distances, keywords=[model_keyword, METHOD])\n",
    "saved_path = os.path.join(analysis_output_dir, f\"{model_keyword}_k_{len(intra_class_distances)}.png\")\n",
    "fig.savefig(saved_path)\n",
    "\n",
    "\n",
    "d = cohens_d(np.array(inter_class_distances), np.array(intra_class_distances))\n",
    "print(f\"Cohen's d: {d}\")"
   ]
  },
  {
   "cell_type": "markdown",
   "metadata": {},
   "source": [
    "# SWIN_S V2"
   ]
  },
  {
   "cell_type": "code",
   "execution_count": null,
   "metadata": {},
   "outputs": [],
   "source": [
    "model_keyword = \"swin_v2_s\"\n",
    "features = load_features(keyword=model_keyword)\n",
    "feature_vectors =[feature[\"feature\"] for feature in features]\n",
    "feature_labels = [label[\"label_id\"] for label in features]\n",
    "\n",
    "\n",
    "\n",
    "np_feature_labels = np.array(feature_labels)\n",
    "np_feature_vectors = np.array(feature_vectors).squeeze(axis = 1)\n",
    "np_normalized_feature_vectors = apply_zscore_normalization(np_feature_vectors)\n",
    "\n",
    "clustered_feature_vectors = get_clustered_features(feature_vectors=np_normalized_feature_vectors, feature_labels=feature_labels)\n",
    "\n",
    "\n",
    "\n",
    "inter_class_distances = get_all_inter_classes(clustered_feature_vectors)\n",
    "intra_class_distances = get_all_intra_classes(clustered_feature_vectors)\n",
    "\n",
    "print(f\"inter_class_distances: {inter_class_distances}\")\n",
    "print(f\"intra_class_distances: {intra_class_distances}\")\n",
    "fig = visualize_inter_intra_class_distances(inter_class_distances=inter_class_distances, intra_class_distances=intra_class_distances, keywords=[model_keyword, METHOD])\n",
    "saved_path = os.path.join(analysis_output_dir, f\"{model_keyword}_k_{len(intra_class_distances)}.png\")\n",
    "fig.savefig(saved_path)\n",
    "\n",
    "\n",
    "d = cohens_d(np.array(inter_class_distances), np.array(intra_class_distances))\n",
    "print(f\"Cohen's d: {d}\")"
   ]
  },
  {
   "cell_type": "code",
   "execution_count": null,
   "metadata": {},
   "outputs": [],
   "source": []
  }
 ],
 "metadata": {
  "kernelspec": {
   "display_name": "Python 3",
   "language": "python",
   "name": "python3"
  },
  "language_info": {
   "codemirror_mode": {
    "name": "ipython",
    "version": 3
   },
   "file_extension": ".py",
   "mimetype": "text/x-python",
   "name": "python",
   "nbconvert_exporter": "python",
   "pygments_lexer": "ipython3",
   "version": "3.11.0"
  },
  "vscode": {
   "interpreter": {
    "hash": "aee8b7b246df8f9039afb4144a1f6fd8d2ca17a180786b69acc140d282b71a49"
   }
  }
 },
 "nbformat": 4,
 "nbformat_minor": 2
}
