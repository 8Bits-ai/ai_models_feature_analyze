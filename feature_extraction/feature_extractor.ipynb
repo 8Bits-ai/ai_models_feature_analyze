{
 "cells": [
  {
   "cell_type": "code",
   "execution_count": 1,
   "metadata": {},
   "outputs": [
    {
     "name": "stderr",
     "output_type": "stream",
     "text": [
      "/home/yasin/anaconda3/envs/deeplr/lib/python3.9/site-packages/tqdm/auto.py:22: TqdmWarning: IProgress not found. Please update jupyter and ipywidgets. See https://ipywidgets.readthedocs.io/en/stable/user_install.html\n",
      "  from .autonotebook import tqdm as notebook_tqdm\n"
     ]
    },
    {
     "ename": "ModuleNotFoundError",
     "evalue": "No module named 'dotenv'",
     "output_type": "error",
     "traceback": [
      "\u001b[0;31m---------------------------------------------------------------------------\u001b[0m",
      "\u001b[0;31mModuleNotFoundError\u001b[0m                       Traceback (most recent call last)",
      "Cell \u001b[0;32mIn[1], line 2\u001b[0m\n\u001b[1;32m      1\u001b[0m \u001b[38;5;28;01mimport\u001b[39;00m \u001b[38;5;21;01m__init__\u001b[39;00m\n\u001b[0;32m----> 2\u001b[0m \u001b[38;5;28;01mfrom\u001b[39;00m \u001b[38;5;21;01mutils\u001b[39;00m \u001b[38;5;28;01mimport\u001b[39;00m load_dataset\n\u001b[1;32m      3\u001b[0m \u001b[38;5;28;01mimport\u001b[39;00m \u001b[38;5;21;01mtorch\u001b[39;00m \n\u001b[1;32m      4\u001b[0m \u001b[38;5;28;01mfrom\u001b[39;00m \u001b[38;5;21;01mfeature_extractor\u001b[39;00m \u001b[38;5;28;01mimport\u001b[39;00m VitFeatureExtractor, ResnetFeatureExtractor\n",
      "File \u001b[0;32m~/ai_models_feature_analyze/utils/utils.py:4\u001b[0m\n\u001b[1;32m      2\u001b[0m \u001b[38;5;28;01mimport\u001b[39;00m  \u001b[38;5;21;01mos\u001b[39;00m\n\u001b[1;32m      3\u001b[0m \u001b[38;5;28;01mimport\u001b[39;00m \u001b[38;5;21;01msys\u001b[39;00m \n\u001b[0;32m----> 4\u001b[0m \u001b[38;5;28;01mfrom\u001b[39;00m \u001b[38;5;21;01mdotenv\u001b[39;00m \u001b[38;5;28;01mimport\u001b[39;00m load_dotenv\n\u001b[1;32m      5\u001b[0m \u001b[38;5;28;01mfrom\u001b[39;00m \u001b[38;5;21;01mcollections\u001b[39;00m \u001b[38;5;28;01mimport\u001b[39;00m Counter\n\u001b[1;32m      8\u001b[0m sys\u001b[38;5;241m.\u001b[39mpath\u001b[38;5;241m.\u001b[39mappend(os\u001b[38;5;241m.\u001b[39mpath\u001b[38;5;241m.\u001b[39mdirname(os\u001b[38;5;241m.\u001b[39mpath\u001b[38;5;241m.\u001b[39mabspath(os\u001b[38;5;241m.\u001b[39mpath\u001b[38;5;241m.\u001b[39mdirname(\u001b[38;5;18m__file__\u001b[39m))))\n",
      "\u001b[0;31mModuleNotFoundError\u001b[0m: No module named 'dotenv'"
     ]
    }
   ],
   "source": [
    "import __init__\n",
    "from utils import load_dataset\n",
    "import torch \n",
    "from feature_extractor import VitFeatureExtractor, ResnetFeatureExtractor"
   ]
  },
  {
   "cell_type": "code",
   "execution_count": null,
   "metadata": {},
   "outputs": [],
   "source": [
    "dataset = load_dataset(\"name_dataset\")\n"
   ]
  },
  {
   "cell_type": "markdown",
   "metadata": {},
   "source": [
    "## VIT BASE PATCH 16 FEATURE EXTRACTION"
   ]
  },
  {
   "cell_type": "code",
   "execution_count": null,
   "metadata": {},
   "outputs": [],
   "source": [
    "feature_extractor = VitFeatureExtractor(model_name=\"vit_b_16\")\n",
    "feature_extractor.to(\"cuda\")\n",
    "features = feature_extractor.extract_features(dataset)\n",
    "feature_extractor.save(name =\"vit_b_16_pc_224_21\", path=output_dir)\n"
   ]
  },
  {
   "cell_type": "markdown",
   "metadata": {},
   "source": [
    "## VIT LARGE PATCH 16 FEATURE EXTRACTION"
   ]
  },
  {
   "cell_type": "code",
   "execution_count": null,
   "metadata": {},
   "outputs": [],
   "source": [
    "\n",
    "\n",
    "feature_extractor = VitFeatureExtractor(model_name=\"vit_l_16\")\n",
    "\n",
    "feature_extractor.to(\"cuda\")\n",
    "features = feature_extractor.extract_features(dataset)\n",
    "feature_extractor.save(name =\"vit_l_16_pc_224_21\", path=output_dir)\n"
   ]
  },
  {
   "cell_type": "markdown",
   "metadata": {},
   "source": [
    "## VIT LARGE PATCH 32 FEATURE EXTRACTION"
   ]
  },
  {
   "cell_type": "code",
   "execution_count": null,
   "metadata": {},
   "outputs": [],
   "source": [
    "feature_extractor = VitFeatureExtractor(model_name=\"vit_l_32\")\n",
    "\n",
    "feature_extractor.to(\"cuda\")\n",
    "features = feature_extractor.extract_features(dataset)\n",
    "feature_extractor.save(name =\"vit_l_32_pc_224_21\", path=output_dir)\n"
   ]
  },
  {
   "cell_type": "markdown",
   "metadata": {},
   "source": [
    "## VIT HUGE PATCH 14 FEATURE EXTRACTION"
   ]
  },
  {
   "cell_type": "code",
   "execution_count": null,
   "metadata": {},
   "outputs": [],
   "source": [
    "\n",
    "\n",
    "feature_extractor = VitFeatureExtractor(model_name=\"vit_h_14\")\n",
    "\n",
    "feature_extractor.to(\"cuda\")\n",
    "features = feature_extractor.extract_features(large_dataset)\n",
    "feature_extractor.save(name =\"vit_h_14_pc_518_21\", path=output_dir)\n"
   ]
  },
  {
   "cell_type": "markdown",
   "metadata": {},
   "source": [
    "## RESNET 50 FEATURE EXTRACTION"
   ]
  },
  {
   "cell_type": "code",
   "execution_count": null,
   "metadata": {},
   "outputs": [],
   "source": [
    "feature_extractor = ResnetFeatureExtractor(model_name=\"resnet50\")\n",
    "feature_extractor.to(\"cuda\")\n",
    "features = feature_extractor.extract_features(dataset)\n",
    "feature_extractor.save(name = \"resnet50_224_21\", path=output_dir)\n"
   ]
  },
  {
   "cell_type": "markdown",
   "metadata": {},
   "source": [
    "## RESNET 50 FINE TUNING"
   ]
  },
  {
   "cell_type": "code",
   "execution_count": null,
   "metadata": {},
   "outputs": [],
   "source": [
    "fine_tuned_weights = \"/mnt/storage/sd_models/archivist-v1/resnet50_26cls_20ep_dev.pth\"\n",
    "feature_extractor= ResnetFeatureExtractor(model_name = \"resnet50\", weights=fine_tuned_weights, num_of_classes=26)\n",
    "feature_extractor.to(\"cuda\")\n",
    "features = feature_extractor.extract_features(dataset)\n",
    "feature_extractor.save(name = \"resnet50_ft_224_21_AIT90k\", path=output_dir)\n"
   ]
  },
  {
   "attachments": {},
   "cell_type": "markdown",
   "metadata": {},
   "source": [
    "## RESNET 50 FINE TUNING (26x100 training dataset)"
   ]
  },
  {
   "cell_type": "code",
   "execution_count": null,
   "metadata": {},
   "outputs": [],
   "source": [
    "fine_tuned_weights = \"/mnt/storage/sd_models/resnet_50/checkpoint_98.pth.tar\"\n",
    "feature_extractor= ResnetFeatureExtractor(model_name = \"resnet50\", weights=fine_tuned_weights, num_of_classes=26)\n",
    "feature_extractor.to(\"cuda\")\n",
    "features = feature_extractor.extract_features(dataset)\n",
    "feature_extractor.save(name = \"resnet50_ft_224_21_AIT2-6k\", path=output_dir)"
   ]
  },
  {
   "attachments": {},
   "cell_type": "markdown",
   "metadata": {},
   "source": [
    "## VIT LARGE PATCH 32 FEATURE EXTRACTION (26x100 training dataset)"
   ]
  },
  {
   "cell_type": "code",
   "execution_count": null,
   "metadata": {},
   "outputs": [],
   "source": [
    "fine_tuned_weights = \"/mnt/storage/sd_models/vit_l_32/checkpoint_98.pth.tar\"\n",
    "feature_extractor = VitFeatureExtractor(model_name=\"vit_l_32\", weights=fine_tuned_weights, num_of_classes=26)\n",
    "feature_extractor.to(\"cuda\")\n",
    "features = feature_extractor.extract_features(dataset)\n",
    "feature_extractor.save(name =\"vit_l_32_pc_224_21_AIT2-6k\", path=output_dir)"
   ]
  },
  {
   "cell_type": "code",
   "execution_count": null,
   "metadata": {},
   "outputs": [],
   "source": [
    "swin_b', 'swin_s', 'swin_t', 'swin_v2_b', 'swin_v2_s', 'swin_v2_t"
   ]
  },
  {
   "cell_type": "markdown",
   "metadata": {},
   "source": [
    "# swin_b"
   ]
  },
  {
   "cell_type": "code",
   "execution_count": null,
   "metadata": {},
   "outputs": [],
   "source": [
    "feature_extractor = VitFeatureExtractor(model_name=\"swin_b\")\n",
    "\n",
    "feature_extractor.to(\"cuda\")\n",
    "features = feature_extractor.extract_features(large_dataset)\n",
    "feature_extractor.save(name =\"swin_b_pc_518_21\", path=output_dir)"
   ]
  },
  {
   "cell_type": "markdown",
   "metadata": {},
   "source": [
    "# swin_s"
   ]
  },
  {
   "cell_type": "code",
   "execution_count": null,
   "metadata": {},
   "outputs": [],
   "source": [
    "feature_extractor = VitFeatureExtractor(model_name=\"swin_s\")\n",
    "\n",
    "feature_extractor.to(\"cuda\")\n",
    "features = feature_extractor.extract_features(large_dataset)\n",
    "feature_extractor.save(name =\"swin_s_pc_518_21\", path=output_dir)"
   ]
  },
  {
   "cell_type": "markdown",
   "metadata": {},
   "source": [
    "# swin_t"
   ]
  },
  {
   "cell_type": "code",
   "execution_count": null,
   "metadata": {},
   "outputs": [],
   "source": [
    "feature_extractor = VitFeatureExtractor(model_name=\"swin_t\")\n",
    "\n",
    "feature_extractor.to(\"cuda\")\n",
    "features = feature_extractor.extract_features(large_dataset)\n",
    "feature_extractor.save(name =\"swin_t_pc_518_21\", path=output_dir)"
   ]
  },
  {
   "cell_type": "markdown",
   "metadata": {},
   "source": [
    "# swin_b v2"
   ]
  },
  {
   "cell_type": "code",
   "execution_count": null,
   "metadata": {},
   "outputs": [],
   "source": [
    "feature_extractor = VitFeatureExtractor(model_name=\"swin_v2_b\")\n",
    "\n",
    "feature_extractor.to(\"cuda\")\n",
    "features = feature_extractor.extract_features(large_dataset)\n",
    "feature_extractor.save(name =\"swin_v2_b_pc_518_21\", path=output_dir)"
   ]
  },
  {
   "cell_type": "markdown",
   "metadata": {},
   "source": [
    "# swin_t v2"
   ]
  },
  {
   "cell_type": "code",
   "execution_count": null,
   "metadata": {},
   "outputs": [],
   "source": [
    "feature_extractor = VitFeatureExtractor(model_name=\"swin_v2_t\")\n",
    "\n",
    "feature_extractor.to(\"cuda\")\n",
    "features = feature_extractor.extract_features(large_dataset)\n",
    "feature_extractor.save(name =\"swin_v2_t_pc_518_21\", path=output_dir)"
   ]
  },
  {
   "cell_type": "markdown",
   "metadata": {},
   "source": [
    "# swin_s v2"
   ]
  },
  {
   "cell_type": "code",
   "execution_count": null,
   "metadata": {},
   "outputs": [],
   "source": [
    "feature_extractor = VitFeatureExtractor(model_name=\"swin_v2_s\")\n",
    "\n",
    "feature_extractor.to(\"cuda\")\n",
    "features = feature_extractor.extract_features(large_dataset)\n",
    "feature_extractor.save(name =\"swin_v2_s_pc_518_21\", path=output_dir)"
   ]
  }
 ],
 "metadata": {
  "kernelspec": {
   "display_name": "Python 3",
   "language": "python",
   "name": "python3"
  },
  "language_info": {
   "codemirror_mode": {
    "name": "ipython",
    "version": 3
   },
   "file_extension": ".py",
   "mimetype": "text/x-python",
   "name": "python",
   "nbconvert_exporter": "python",
   "pygments_lexer": "ipython3",
   "version": "3.9.15"
  },
  "vscode": {
   "interpreter": {
    "hash": "ca3ed784184f1b3bb7c3539bfb45e71710cd27667424f92c2d5bb4df9c107c23"
   }
  }
 },
 "nbformat": 4,
 "nbformat_minor": 2
}
